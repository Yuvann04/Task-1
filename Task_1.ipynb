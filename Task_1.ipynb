{
  "nbformat": 4,
  "nbformat_minor": 0,
  "metadata": {
    "colab": {
      "provenance": [],
      "authorship_tag": "ABX9TyNbJ6+3vyPThIcY1W+pMOvn",
      "include_colab_link": true
    },
    "kernelspec": {
      "name": "python3",
      "display_name": "Python 3"
    },
    "language_info": {
      "name": "python"
    }
  },
  "cells": [
    {
      "cell_type": "markdown",
      "metadata": {
        "id": "view-in-github",
        "colab_type": "text"
      },
      "source": [
        "<a href=\"https://colab.research.google.com/github/Yuvann04/Task-1/blob/main/Task_1.ipynb\" target=\"_parent\"><img src=\"https://colab.research.google.com/assets/colab-badge.svg\" alt=\"Open In Colab\"/></a>"
      ]
    },
    {
      "cell_type": "code",
      "execution_count": 3,
      "metadata": {
        "colab": {
          "base_uri": "https://localhost:8080/",
          "height": 1000
        },
        "id": "jgUj8l8ZhMSy",
        "outputId": "8a7828d4-24ac-4215-8e21-14cfbc6469eb"
      },
      "outputs": [
        {
          "output_type": "stream",
          "name": "stdout",
          "text": [
            "<class 'pandas.core.frame.DataFrame'>\n",
            "RangeIndex: 891 entries, 0 to 890\n",
            "Data columns (total 12 columns):\n",
            " #   Column       Non-Null Count  Dtype  \n",
            "---  ------       --------------  -----  \n",
            " 0   PassengerId  891 non-null    int64  \n",
            " 1   Survived     891 non-null    int64  \n",
            " 2   Pclass       891 non-null    int64  \n",
            " 3   Name         891 non-null    object \n",
            " 4   Sex          891 non-null    object \n",
            " 5   Age          714 non-null    float64\n",
            " 6   SibSp        891 non-null    int64  \n",
            " 7   Parch        891 non-null    int64  \n",
            " 8   Ticket       891 non-null    object \n",
            " 9   Fare         891 non-null    float64\n",
            " 10  Cabin        204 non-null    object \n",
            " 11  Embarked     889 non-null    object \n",
            "dtypes: float64(2), int64(5), object(5)\n",
            "memory usage: 83.7+ KB\n",
            "None\n",
            "PassengerId      0\n",
            "Survived         0\n",
            "Pclass           0\n",
            "Name             0\n",
            "Sex              0\n",
            "Age            177\n",
            "SibSp            0\n",
            "Parch            0\n",
            "Ticket           0\n",
            "Fare             0\n",
            "Cabin          687\n",
            "Embarked         2\n",
            "dtype: int64\n"
          ]
        },
        {
          "output_type": "display_data",
          "data": {
            "text/plain": [
              "<Figure size 1000x500 with 1 Axes>"
            ],
            "image/png": "[encoded data removed]"
          },
          "metadata": {}
        },
        {
          "output_type": "stream",
          "name": "stdout",
          "text": [
            "Data cleaned and saved to 'titanic_cleaned.csv'.\n"
          ]
        }
      ],
      "source": [
        "# Step 1: Import Libraries and Load Dataset\n",
        "import pandas as pd\n",
        "import numpy as np\n",
        "import matplotlib.pyplot as plt\n",
        "import seaborn as sns\n",
        "\n",
        "# Load the dataset (update the path if needed)\n",
        "df = pd.read_csv('Titanic-Dataset.csv')\n",
        "\n",
        "# Step 2: Explore Basic Info\n",
        "print(df.info())\n",
        "print(df.isnull().sum())\n",
        "\n",
        "# Step 3: Handle Missing Values\n",
        "# For numeric: Fill 'Age' with median, 'Fare' with mean\n",
        "df['Age'] = df['Age'].fillna(df['Age'].median())\n",
        "df['Fare'] = df['Fare'].fillna(df['Fare'].mean())\n",
        "df['Embarked'] = df['Embarked'].fillna(df['Embarked'].mode()[0])\n",
        "\n",
        "# Step 4: Convert Categorical Features (Encoding)\n",
        "from sklearn.preprocessing import LabelEncoder, OneHotEncoder\n",
        "\n",
        "# Label Encoding for 'Sex'\n",
        "le = LabelEncoder()\n",
        "df['Sex'] = le.fit_transform(df['Sex'])\n",
        "\n",
        "# One-hot encoding for 'Embarked'\n",
        "df = pd.get_dummies(df, columns=['Embarked'], drop_first=True)\n",
        "\n",
        "# Step 5: Normalize/Standardize Numerical Features\n",
        "from sklearn.preprocessing import StandardScaler, MinMaxScaler\n",
        "\n",
        "scaler = StandardScaler()\n",
        "cols_to_scale = ['Age', 'Fare']\n",
        "\n",
        "df[cols_to_scale] = scaler.fit_transform(df[cols_to_scale])\n",
        "\n",
        "# (Alternatively, use MinMaxScaler for normalization)\n",
        "# scaler = MinMaxScaler()\n",
        "# df[cols_to_scale] = scaler.fit_transform(df[cols_to_scale])\n",
        "\n",
        "# Step 6: Visualize Outliers with Boxplots\n",
        "plt.figure(figsize=(10,5))\n",
        "sns.boxplot(data=df[cols_to_scale])\n",
        "plt.title('Boxplot of Numerical Features')\n",
        "plt.show()\n",
        "\n",
        "# Remove outliers using IQR method\n",
        "for col in cols_to_scale:\n",
        "    Q1 = df[col].quantile(0.25)\n",
        "    Q3 = df[col].quantile(0.75)\n",
        "    IQR = Q3 - Q1\n",
        "    lower = Q1 - 1.5 * IQR\n",
        "    upper = Q3 + 1.5 * IQR\n",
        "    df = df[(df[col] >= lower) & (df[col] <= upper)]\n",
        "\n",
        "# Step 7: Save Cleaned Data\n",
        "df.to_csv('titanic_cleaned.csv', index=False)\n",
        "\n",
        "print(\"Data cleaned and saved to 'titanic_cleaned.csv'.\")\n"
      ]
    },
    {
      "cell_type": "code",
      "source": [],
      "metadata": {
        "id": "youTXG-whj4U"
      },
      "execution_count": null,
      "outputs": []
    }
  ]
}